{
 "cells": [
  {
   "cell_type": "markdown",
   "id": "df9bbf93-f405-474a-8cd4-8d2d347fdf0b",
   "metadata": {},
   "source": [
    "# Data Science Tools and Ecosystem"
   ]
  },
  {
   "cell_type": "markdown",
   "id": "f582bd6a-854d-4370-9f79-35dcacd3bf8b",
   "metadata": {},
   "source": [
    "In this notebook, Data Science Tools and Ecosystem are summarized."
   ]
  },
  {
   "cell_type": "markdown",
   "id": "d8ce0483-3948-4e2a-abb4-1fc09e21c548",
   "metadata": {},
   "source": [
    "**Objectives:**\n",
    "* Popular languages for Data Science\n",
    "* Popular libaries for Data Science\n",
    "* Popular Data Science tools"
   ]
  },
  {
   "cell_type": "markdown",
   "id": "9c7f8007-238b-4d8f-9930-674ca6dcbc2f",
   "metadata": {},
   "source": [
    "Some of the popular languages that Data Scientists use are:\n",
    "1. Python\n",
    "2. R\n",
    "3. SQL"
   ]
  },
  {
   "cell_type": "markdown",
   "id": "d96c3a90-6718-4834-a74c-79b3320859ad",
   "metadata": {},
   "source": [
    "Some of the commonly used libraries used by Data Scientists include:\n",
    "1. Pandas(Python)\n",
    "2. ggplot2(R)\n",
    "3. NumPy(Python)"
   ]
  },
  {
   "cell_type": "markdown",
   "id": "caca4e5c-9f06-4229-b3e5-5ff379e7c8e0",
   "metadata": {},
   "source": [
    "|Data Science Tools|\n",
    "|-----------|\n",
    "|Jupyter Lab|\n",
    "|RStudio|\n",
    "|PyCharm|"
   ]
  },
  {
   "cell_type": "markdown",
   "id": "a12509e2-e4be-4763-8842-8c0f62979956",
   "metadata": {},
   "source": [
    "### Below are a few examples of evaluating arithmetic expressions in Python"
   ]
  },
  {
   "cell_type": "code",
   "execution_count": 2,
   "id": "c627347a-e36b-45ab-9dd4-b10a7d14a9dc",
   "metadata": {
    "tags": []
   },
   "outputs": [
    {
     "data": {
      "text/plain": [
       "17"
      ]
     },
     "execution_count": 2,
     "metadata": {},
     "output_type": "execute_result"
    }
   ],
   "source": [
    "# This a simple arithmetic expression to mutiply then add integers\n",
    "(3*4)+5"
   ]
  },
  {
   "cell_type": "code",
   "execution_count": 3,
   "id": "37232e78-cd30-4016-85e0-eb26d0f854f8",
   "metadata": {},
   "outputs": [
    {
     "data": {
      "text/plain": [
       "3.3333333333333335"
      ]
     },
     "execution_count": 3,
     "metadata": {},
     "output_type": "execute_result"
    }
   ],
   "source": [
    "# This will convert 200 minutes to hours by diving by 60\n",
    "200/60"
   ]
  },
  {
   "cell_type": "markdown",
   "id": "dbd0bda0-3253-41d7-af12-815f1605a6dc",
   "metadata": {
    "tags": []
   },
   "source": [
    "## Author\n",
    "Anton"
   ]
  }
 ],
 "metadata": {
  "kernelspec": {
   "display_name": "Python 3 (ipykernel)",
   "language": "python",
   "name": "python3"
  },
  "language_info": {
   "codemirror_mode": {
    "name": "ipython",
    "version": 3
   },
   "file_extension": ".py",
   "mimetype": "text/x-python",
   "name": "python",
   "nbconvert_exporter": "python",
   "pygments_lexer": "ipython3",
   "version": "3.11.5"
  }
 },
 "nbformat": 4,
 "nbformat_minor": 5
}
